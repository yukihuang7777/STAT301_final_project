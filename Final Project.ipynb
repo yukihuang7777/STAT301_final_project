{
 "cells": [
  {
   "cell_type": "markdown",
   "id": "154ac2fb-6bde-4768-8ab7-46294a08b5f7",
   "metadata": {},
   "source": [
    "# Prediction of Spam \n",
    "### Jake Andersen-Lum, Stephen Hong, Yicheng Huang, Ella Ren\n",
    "### STAT301: Statistical Modelling for Data Science\n",
    "### March 31, 2025"
   ]
  },
  {
   "cell_type": "code",
   "execution_count": 1,
   "id": "129f3603-22b8-4f7a-9a59-59f8e4bfa927",
   "metadata": {},
   "outputs": [
    {
     "name": "stderr",
     "output_type": "stream",
     "text": [
      "Warning message:\n",
      "\"package 'ggplot2' was built under R version 4.4.3\"\n",
      "── \u001b[1mAttaching core tidyverse packages\u001b[22m ──────────────────────────────────────────────────────────────── tidyverse 2.0.0 ──\n",
      "\u001b[32m✔\u001b[39m \u001b[34mdplyr    \u001b[39m 1.1.4     \u001b[32m✔\u001b[39m \u001b[34mreadr    \u001b[39m 2.1.5\n",
      "\u001b[32m✔\u001b[39m \u001b[34mforcats  \u001b[39m 1.0.0     \u001b[32m✔\u001b[39m \u001b[34mstringr  \u001b[39m 1.5.1\n",
      "\u001b[32m✔\u001b[39m \u001b[34mggplot2  \u001b[39m 3.5.2     \u001b[32m✔\u001b[39m \u001b[34mtibble   \u001b[39m 3.2.1\n",
      "\u001b[32m✔\u001b[39m \u001b[34mlubridate\u001b[39m 1.9.4     \u001b[32m✔\u001b[39m \u001b[34mtidyr    \u001b[39m 1.3.1\n",
      "\u001b[32m✔\u001b[39m \u001b[34mpurrr    \u001b[39m 1.0.4     \n",
      "── \u001b[1mConflicts\u001b[22m ────────────────────────────────────────────────────────────────────────────────── tidyverse_conflicts() ──\n",
      "\u001b[31m✖\u001b[39m \u001b[34mdplyr\u001b[39m::\u001b[32mfilter()\u001b[39m masks \u001b[34mstats\u001b[39m::filter()\n",
      "\u001b[31m✖\u001b[39m \u001b[34mdplyr\u001b[39m::\u001b[32mlag()\u001b[39m    masks \u001b[34mstats\u001b[39m::lag()\n",
      "\u001b[36mℹ\u001b[39m Use the conflicted package (\u001b[3m\u001b[34m<http://conflicted.r-lib.org/>\u001b[39m\u001b[23m) to force all conflicts to become errors\n",
      "\n",
      "Attaching package: 'cowplot'\n",
      "\n",
      "\n",
      "The following object is masked from 'package:lubridate':\n",
      "\n",
      "    stamp\n",
      "\n",
      "\n",
      "Warning message:\n",
      "\"package 'broom' was built under R version 4.4.3\"\n",
      "\n",
      "Attaching package: 'modelr'\n",
      "\n",
      "\n",
      "The following object is masked from 'package:broom':\n",
      "\n",
      "    bootstrap\n",
      "\n",
      "\n",
      "Type 'citation(\"pROC\")' for a citation.\n",
      "\n",
      "\n",
      "Attaching package: 'pROC'\n",
      "\n",
      "\n",
      "The following objects are masked from 'package:stats':\n",
      "\n",
      "    cov, smooth, var\n",
      "\n",
      "\n",
      "Warning message:\n",
      "\"package 'rsample' was built under R version 4.4.3\"\n",
      "Loading required package: lattice\n",
      "\n",
      "Warning message:\n",
      "\"package 'lattice' was built under R version 4.4.3\"\n",
      "\n",
      "Attaching package: 'caret'\n",
      "\n",
      "\n",
      "The following object is masked from 'package:purrr':\n",
      "\n",
      "    lift\n",
      "\n",
      "\n",
      "Loading required package: Matrix\n",
      "\n",
      "Warning message:\n",
      "\"package 'Matrix' was built under R version 4.4.3\"\n",
      "\n",
      "Attaching package: 'Matrix'\n",
      "\n",
      "\n",
      "The following objects are masked from 'package:tidyr':\n",
      "\n",
      "    expand, pack, unpack\n",
      "\n",
      "\n",
      "Loaded glmnet 4.1-8\n",
      "\n"
     ]
    }
   ],
   "source": [
    "library(tidyverse)\n",
    "library(repr)\n",
    "library(infer)\n",
    "library(cowplot)\n",
    "library(broom)\n",
    "library(modelr)\n",
    "library(pROC)\n",
    "library(rsample)\n",
    "library(caret)\n",
    "#install.packages(\"glmnet\") # need this to run once before commenting out\n",
    "library(glmnet)"
   ]
  },
  {
   "cell_type": "markdown",
   "id": "ee15d31b-9a2e-4129-836f-95ac5a0dc285",
   "metadata": {},
   "source": [
    "## Introduction\n",
    "\n",
    "As technology develops, an increasing number of users choose to use email as a method of communication. At the same time, the number of unsolicited spam emails has grown. This not only makes mailboxes cluttered and causes users to miss important emails, but it is also a burden on the ISP's system (Cranor & LaMacchia, 1998). Therefore, predicting spam is an important way to guarantee user access and maintain the integrity of the email system.\n",
    "\n",
    "Our research question is: Can we accurately predict whether an email is spam using the variables in our [email](https://www.openintro.org/data/index.php?data=email) dataset? The primary goal of this paper is prediction, and we hope to build a model that can accurately identify spam by using these features."
   ]
  },
  {
   "cell_type": "markdown",
   "id": "aeaa0523-c2fe-4633-a035-16df2d208502",
   "metadata": {},
   "source": [
    "## Methods and Results"
   ]
  },
  {
   "cell_type": "markdown",
   "id": "97d12e87-6eed-406c-9538-7ef0d61f4d43",
   "metadata": {},
   "source": [
    "#### a) Data\n",
    "\n",
    "The dataset is called [email](https://www.openintro.org/data/index.php?data=email), which is sourced from OpenIntro, and the source is the first three months of 2012 for David Diez's Gmail Account.\n",
    "The dataset contains 3921 observations and 21 variables focusing on the information of incoming emails. This is an observational data.\n",
    "\n",
    "**Citation**: [email](https://www.openintro.org/data/index.php?data=email)"
   ]
  },
  {
   "cell_type": "code",
   "execution_count": 36,
   "id": "c6efd69b-965b-4ede-a044-7c8116902c3b",
   "metadata": {},
   "outputs": [
    {
     "name": "stderr",
     "output_type": "stream",
     "text": [
      "\u001b[1mRows: \u001b[22m\u001b[34m3921\u001b[39m \u001b[1mColumns: \u001b[22m\u001b[34m21\u001b[39m\n",
      "\u001b[36m──\u001b[39m \u001b[1mColumn specification\u001b[22m \u001b[36m────────────────────────────────────────────────────────────────────────────────────────────────\u001b[39m\n",
      "\u001b[1mDelimiter:\u001b[22m \",\"\n",
      "\u001b[31mchr\u001b[39m   (2): winner, number\n",
      "\u001b[32mdbl\u001b[39m  (18): spam, to_multiple, from, cc, sent_email, image, attach, dollar, i...\n",
      "\u001b[34mdttm\u001b[39m  (1): time\n",
      "\n",
      "\u001b[36mℹ\u001b[39m Use `spec()` to retrieve the full column specification for this data.\n",
      "\u001b[36mℹ\u001b[39m Specify the column types or set `show_col_types = FALSE` to quiet this message.\n"
     ]
    }
   ],
   "source": [
    "# Loaded the data from an open source\n",
    "email <- read_csv(url(\"https://www.openintro.org/data/csv/email.csv\"))"
   ]
  },
  {
   "cell_type": "markdown",
   "id": "404fb685-20d8-45f4-87d8-149e94d0e285",
   "metadata": {},
   "source": [
    "#### Variables information\n",
    "\n",
    "| Variable Name    | Type | Description |\n",
    "|---------|-----|-------|\n",
    "| spam   | Categorical  |  Indicator for whether the email was spam (1 = Yes, 0 = No).   |\n",
    "| to_multiple     | Categorical  |  Indicator for whether the email was addressed to more than one recipient (1 = Yes, 0 = No).   |\n",
    "| from | Categorical  |  Indicator for whether the message was listed as from anyone (1 = Yes, 0 = No).   |\n",
    "| cc   | Numerical  |  The number of people cc'ed (carbon copy) in the email.  |\n",
    "| sent_email     | Categorical  |  Indicator for whether the sender had been sent an email in the last 30 days (1 = Yes, 0 = No).   |\n",
    "| time | Numerical  |  Time at which email was sent.   |\n",
    "| image   | Numerical  |  The number of images attached in the email.   |\n",
    "|   attach   | Numerical  |  The number of attached files in the email.   |\n",
    "| dollar | Numerical  |  The number of times a dollar sign or the word \"dollar\" appeared in the email.   |\n",
    "|  winner  | Categorical  |  Indicates whether \"winner\" appeared in the email (Yes, No).   |\n",
    "|   inherit   | Numerical  |  The number of times \"inherit\" (or an extension, such as \"inheritance\") appeared in the email.   |\n",
    "| viagra | Numerical  |  The number of times \"viagra\" appeared in the email.   |\n",
    "|  password  | Numerical  |  The number of times \"password\" appeared in the email.   |\n",
    "|   num_char   | Numerical  |  The number of characters in the email, and the unit is thousands.   |\n",
    "| line_breaks | Numerical  |  The number of line breaks in the email (does not count text wrapping).   |\n",
    "|  format  | Categorical  |  Indicator for whether the email was written using HTML (1 = Yes, 0 = No).   |\n",
    "|   re_subj   | Categorical  |  Indicator for whether the subject started with \"Re:\", \"RE:\", \"re:\", or \"rE:\" (1 = Yes, 0 = No).  |\n",
    "| exclaim_subj | Categorical  |  Indicator for whether there was an exclamation point in the subject (1 = Yes, 0 = No).   |\n",
    "|  urgent_subj  | Categorical  |  Indicator for whether the word “urgent” was in the email subject (1 = Yes, 0 = No).   |\n",
    "|   exclaim_mess   | Numerical  |  The number of exclamation points in the email message.   |\n",
    "| number | Categorical  |  Indicates whether there was no number, a small number (under 1 million), or a big number (none, small, big).   |\n",
    "\n",
    "#### Dropped Variables\n",
    "- `time`: Time is removed from the dataset because emails may be sent from different time zones and cause noise."
   ]
  },
  {
   "cell_type": "markdown",
   "id": "1168bc41-d655-4cfd-acd0-2a99b2b692cc",
   "metadata": {},
   "source": [
    "#### b) Exploratory Data Analysis (EDA)"
   ]
  },
  {
   "cell_type": "code",
   "execution_count": 37,
   "id": "029b585f-b230-4ab2-87c1-f7f8146bdedc",
   "metadata": {},
   "outputs": [],
   "source": [
    "# Selected variables and converted categorical variables to factors\n",
    "email <- email |>\n",
    "    select(-time) |>\n",
    "    mutate(across(c(spam, to_multiple, from, viagra, sent_email, \n",
    "                    winner, format, re_subj, exclaim_subj, urgent_subj, number), as.factor))"
   ]
  },
  {
   "cell_type": "code",
   "execution_count": 38,
   "id": "8f732d96-7b21-4f95-8731-c50b3517a328",
   "metadata": {},
   "outputs": [],
   "source": [
    "# Main developer: Jake Andersen-Lum\n",
    "# Pivot to long format to get one column for variable names, and one for values\n",
    "email_long <- email |>\n",
    "  pivot_longer(cols = where(is.factor), names_to = \"variable\", values_to = \"value\")\n",
    "\n",
    "# Count and calculate proportions\n",
    "email_props <- email_long |>\n",
    "  group_by(variable, value) |>\n",
    "  summarise(n = n(), .groups = \"drop\") |>\n",
    "  group_by(variable) |>\n",
    "  mutate(prop = n / sum(n))\n",
    "\n",
    "# Plot\n",
    "bar_email <- ggplot(email_props, aes(x = variable, y = prop, fill = value)) +\n",
    "                  geom_bar(stat = \"identity\") +\n",
    "                  scale_y_continuous(labels = scales::percent) +\n",
    "                  labs(title = \"Proportions of Categorical Variables\",\n",
    "                       x = \"Variable\", y = \"Proportion\",\n",
    "                       fill = \"Category\") +\n",
    "                  theme_minimal() +\n",
    "                  theme(axis.text.x = element_text(angle = 45, hjust = 1))"
   ]
  },
  {
   "cell_type": "code",
   "execution_count": 39,
   "id": "b39c838b-0072-4898-b710-8dbf2380b1e6",
   "metadata": {},
   "outputs": [],
   "source": [
    "# Main developer: Ella Ren\n",
    "# Contributors: Yicheng Huang (commented)\n",
    "\n",
    "# Compute correlation matrix for numeric variables\n",
    "email_matrix <- \n",
    "   cor(email[, sapply(email, is.numeric)], ) %>%\n",
    "   as_tibble(rownames = 'v1') %>%\n",
    "   pivot_longer(-v1, names_to = \"v2\", values_to = \"corr\")\n",
    "\n",
    "# Create a heatmap of the correlations\n",
    "heatmap_email <- \n",
    "  email_matrix %>%\n",
    "  ggplot(aes(x = v1, y = v2)) +\n",
    "  geom_tile(aes(fill = corr), color = \"white\") +\n",
    "  scale_fill_distiller(\"Correlation \\n\",\n",
    "      palette =  \"RdBu\",\n",
    "      direction = 1, \n",
    "      limits = c(-1, 1)\n",
    "    ) +\n",
    "    labs(x = \"\", y = \"\", title = \"Heatmap for Numerical and Binary Variables\") +\n",
    "    theme_minimal() +\n",
    "    theme(\n",
    "        axis.text.x = element_text(angle = 45, vjust = 1, size = 13, hjust = 1),\n",
    "        axis.text.y = element_text(vjust = 1, size = 13, hjust = 1),\n",
    "        legend.title = element_text(size = 13),\n",
    "        legend.text = element_text(size = 11),\n",
    "        legend.key.size = unit(1.3, \"cm\")\n",
    "    ) +\n",
    "    coord_fixed() +\n",
    "   geom_text(aes(x = v1, y = v2, label = round(corr, 2)), color = \"black\", size = 3)"
   ]
  },
  {
   "cell_type": "code",
   "execution_count": 40,
   "id": "488a0f5d-37ec-42e0-b1a4-63dc2a83849a",
   "metadata": {},
   "outputs": [],
   "source": [
    "# Main developer: Jake Andersen-Lum\n",
    "# Contributors: Yicheng Huang (formatted & commented)\n",
    "\n",
    "# Convert \"format\" and \"has_attach\" into labeled categories\n",
    "email_scatter = email |> \n",
    "    mutate(format = factor(format, labels = c(\"Plain Text\", \"HTML\")),\n",
    "           has_attach = if_else(attach > 0, \"Yes\", \"No\"))"
   ]
  },
  {
   "cell_type": "code",
   "execution_count": 41,
   "id": "15376dec-f4c2-42f0-86d7-aba17f9aeaf2",
   "metadata": {},
   "outputs": [
    {
     "data": {
      "image/png": "[encoded data removed]",
      "text/plain": [
       "plot without title"
      ]
     },
     "metadata": {
      "image/png": {
       "height": 420,
       "width": 420
      }
     },
     "output_type": "display_data"
    },
    {
     "data": {
      "image/png": "[encoded data removed]",
      "text/plain": [
       "plot without title"
      ]
     },
     "metadata": {
      "image/png": {
       "height": 420,
       "width": 420
      }
     },
     "output_type": "display_data"
    }
   ],
   "source": [
    "heatmap_email\n",
    "bar_email"
   ]
  },
  {
   "cell_type": "markdown",
   "id": "3a25e06c-b378-4984-976f-5efc9cfbb1fc",
   "metadata": {},
   "source": [
    "A potential problem coming from the heatmap is that there are certain variables with high correlation such as `num_char` + `line_breaks` and `image` + `attach`. These high correlation values could indicate a violation of multicollinearity when using such variables in a regression model.\n",
    "\n",
    "Looking at the bar graph, `from`, `urgent_subj`, and `viagra` all seem only to have one response. After investigating, we found that `from` only had 3 rows with values different from 1, and `viagra` had 0 rows different from 0, while `urgent_subj` had a bit more variability. Ultimately, we decided to eliminate `from` and `viagra` during the fitting of our model, leaving `urgent_subj` in.\n",
    "\n",
    "No missing values were present for our dataset."
   ]
  },
  {
   "cell_type": "markdown",
   "id": "1836c9e9-9bda-47a0-bdb8-1ff516cf7943",
   "metadata": {},
   "source": [
    "#### c) Methods: Plan"
   ]
  },
  {
   "cell_type": "markdown",
   "id": "d9bb4cc5-13f9-4afd-983a-a1484cca6aad",
   "metadata": {},
   "source": [
    "#### Data Splitting and Model Choice"
   ]
  },
  {
   "cell_type": "markdown",
   "id": "ff0c7ee1-1a46-44ae-86be-6496ba3ebf07",
   "metadata": {},
   "source": [
    "Since we are creating a predictive model, we need to split the dataset into testing and training data to evaluate the model's performance. We will be creating a logistic regression model with the training data because our response variable (spam) is binary."
   ]
  },
  {
   "cell_type": "code",
   "execution_count": 43,
   "id": "b07e35c8-78ea-4fe1-a69b-f11f17a17918",
   "metadata": {},
   "outputs": [],
   "source": [
    "set.seed(3)\n",
    "# All group members developed this code together with the guidance of tutorial 10\n",
    "\n",
    "# Split the data into training and testing sets (70% training, 30% testing)\n",
    "email_split <- initial_split(email, prop = 0.7, strata = spam)\n",
    "email_training <- training(email_split)\n",
    "email_testing <- testing(email_split)"
   ]
  },
  {
   "cell_type": "markdown",
   "id": "bfefb1f5-9d9d-43e3-970e-506791a36290",
   "metadata": {},
   "source": [
    "#### Variable Selection"
   ]
  },
  {
   "cell_type": "markdown",
   "id": "39d64be6-3f2c-44e0-87c4-54776fa7be5c",
   "metadata": {},
   "source": [
    "There are many approaches we could take to estimate the model. Our group chose to implement LASSO as it is the method we were most familiar with. Using LASSO, we were able to select a subset of covariates for our model through the use of our training data. "
   ]
  },
  {
   "cell_type": "code",
   "execution_count": 44,
   "id": "4d891978-b69f-4223-b5eb-c5cc638231f1",
   "metadata": {},
   "outputs": [],
   "source": [
    "# All group members developed this code together with the guidance of tutorial 10\n",
    "# Create model and response matrix for both training and testing sets \n",
    "matrix_X_train <- model.matrix(object = spam ~ ., data = email_training)[,-1]\n",
    "matrix_Y_train <- as.matrix(email_training$spam, ncol = 1)\n",
    "\n",
    "matrix_X_test <- model.matrix(object = spam ~ ., data = email_testing)[, -1]\n",
    "# Do we ever use this one?\n",
    "# matrix_Y_test <- as.matrix(email_testing$spam, ncol = 1)"
   ]
  },
  {
   "cell_type": "markdown",
   "id": "ac92ea91-35fa-4214-90f5-8220b4848876",
   "metadata": {},
   "source": [
    "In the above block, we turned the training and testing datasets into a design matrix for all covariates, excluding the first column of intercepts. The response (spam) is also turned into a matrix for the training set, this allows consistency of types when using LASSO."
   ]
  },
  {
   "cell_type": "code",
   "execution_count": 45,
   "id": "a99b8031-ad76-4d91-9aeb-015403c9cffb",
   "metadata": {},
   "outputs": [],
   "source": [
    "set.seed(4)\n",
    "\n",
    "# All group members developed this code together with the guidance of tutorial 10\n",
    "# Finds lambda that produces the highest average AUC when LASSO penalty is used\n",
    "email_cv_lambda_LASSO <- cv.glmnet(\n",
    "    x = matrix_X_train, y = matrix_Y_train,\n",
    "    alpha = 1,\n",
    "    family = \"binomial\",\n",
    "    type.measure = \"auc\",\n",
    "    nfolds = 5\n",
    "    )"
   ]
  },
  {
   "cell_type": "code",
   "execution_count": 46,
   "id": "541f273a-7d8f-4abb-8453-8463f34711b5",
   "metadata": {},
   "outputs": [
    {
     "name": "stdout",
     "output_type": "stream",
     "text": [
      "[1] \"Figure 1: LASSO Feature Selection\"\n"
     ]
    },
    {
     "data": {
      "text/plain": [
       "21 x 1 sparse Matrix of class \"dgCMatrix\"\n",
       "                        s1\n",
       "(Intercept)    3.279186185\n",
       "to_multiple1  -2.150292990\n",
       "from1         -3.586503893\n",
       "cc             0.026301986\n",
       "sent_email1   -4.484298952\n",
       "image         -1.138735280\n",
       "attach         0.457604884\n",
       "dollar        -0.065590401\n",
       "winneryes      1.901224859\n",
       "inherit        0.292728186\n",
       "viagra8        5.009704373\n",
       "password      -0.595083367\n",
       "num_char       .          \n",
       "line_breaks   -0.002619249\n",
       "format1       -0.636083110\n",
       "re_subj1      -1.771953236\n",
       "exclaim_subj1  .          \n",
       "urgent_subj1   3.541852768\n",
       "exclaim_mess   0.008066717\n",
       "numbernone     0.165044993\n",
       "numbersmall   -0.892607210"
      ]
     },
     "metadata": {},
     "output_type": "display_data"
    }
   ],
   "source": [
    "print(\"Figure 1: LASSO Feature Selection\")\n",
    "coef(email_cv_lambda_LASSO, s = \"lambda.min\")"
   ]
  },
  {
   "cell_type": "markdown",
   "id": "85f53fb2-99df-48f6-8955-2ed3a7b0d2a7",
   "metadata": {},
   "source": [
    "We used 5-fold cross-validation on our training data to fit our logistic models using LASSO. We maximized AUC, which evaluates how well the model can distinguish between the binary responses. Through LASSO, we selected all variables except `num_char` and `exclaim_subj` and end up fitting a logistic regression model using the training data without these variables."
   ]
  },
  {
   "cell_type": "code",
   "execution_count": 50,
   "id": "01940aa4-1b22-484a-911a-3ff72e64bff3",
   "metadata": {},
   "outputs": [
    {
     "name": "stderr",
     "output_type": "stream",
     "text": [
      "Warning message:\n",
      "\"glm.fit: fitted probabilities numerically 0 or 1 occurred\"\n"
     ]
    }
   ],
   "source": [
    "chosen_model = glm(spam ~.-num_char -exclaim_subj -from -viagra, family = \"binomial\", data = email_training)"
   ]
  },
  {
   "cell_type": "markdown",
   "id": "3c25924f-67be-4488-9246-7c473ca01411",
   "metadata": {},
   "source": [
    "Now, we'll get a sense of how good our model is by having it predict on the training data."
   ]
  },
  {
   "cell_type": "code",
   "execution_count": 60,
   "id": "0387de65-0a7c-4e30-ae32-9bf7e1471d4f",
   "metadata": {},
   "outputs": [
    {
     "name": "stdout",
     "output_type": "stream",
     "text": [
      "[1] \"Figure 2: Metrics of 0.5 threshold\"\n"
     ]
    },
    {
     "data": {
      "text/plain": [
       "          Reference\n",
       "Prediction    0    1\n",
       "         0 2462  226\n",
       "         1   17   39"
      ]
     },
     "metadata": {},
     "output_type": "display_data"
    },
    {
     "data": {
      "text/html": [
       "<table class=\"dataframe\">\n",
       "<caption>A tibble: 1 × 6</caption>\n",
       "<thead>\n",
       "\t<tr><th scope=col>Sensitivity</th><th scope=col>Specificity</th><th scope=col>Precision</th><th scope=col>Accuracy</th><th scope=col>Kappa</th><th scope=col>F1</th></tr>\n",
       "\t<tr><th scope=col>&lt;dbl&gt;</th><th scope=col>&lt;dbl&gt;</th><th scope=col>&lt;dbl&gt;</th><th scope=col>&lt;dbl&gt;</th><th scope=col>&lt;dbl&gt;</th><th scope=col>&lt;dbl&gt;</th></tr>\n",
       "</thead>\n",
       "<tbody>\n",
       "\t<tr><td>0.1471698</td><td>0.9931424</td><td>0.6964286</td><td>0.9114431</td><td>0.2165932</td><td>0.2429907</td></tr>\n",
       "</tbody>\n",
       "</table>\n"
      ],
      "text/latex": [
       "A tibble: 1 × 6\n",
       "\\begin{tabular}{llllll}\n",
       " Sensitivity & Specificity & Precision & Accuracy & Kappa & F1\\\\\n",
       " <dbl> & <dbl> & <dbl> & <dbl> & <dbl> & <dbl>\\\\\n",
       "\\hline\n",
       "\t 0.1471698 & 0.9931424 & 0.6964286 & 0.9114431 & 0.2165932 & 0.2429907\\\\\n",
       "\\end{tabular}\n"
      ],
      "text/markdown": [
       "\n",
       "A tibble: 1 × 6\n",
       "\n",
       "| Sensitivity &lt;dbl&gt; | Specificity &lt;dbl&gt; | Precision &lt;dbl&gt; | Accuracy &lt;dbl&gt; | Kappa &lt;dbl&gt; | F1 &lt;dbl&gt; |\n",
       "|---|---|---|---|---|---|\n",
       "| 0.1471698 | 0.9931424 | 0.6964286 | 0.9114431 | 0.2165932 | 0.2429907 |\n",
       "\n"
      ],
      "text/plain": [
       "            Sensitivity Specificity Precision Accuracy  Kappa     F1       \n",
       "Sensitivity 0.1471698   0.9931424   0.6964286 0.9114431 0.2165932 0.2429907"
      ]
     },
     "metadata": {},
     "output_type": "display_data"
    }
   ],
   "source": [
    "# Main developer: Stephen Hong\n",
    "# code adapted from worksheet 10\n",
    "# Predict on training set\n",
    "train_probs <- predict(chosen_model, type = \"response\")\n",
    "\n",
    "email_pred_class <- \n",
    "  round(train_probs, 0)\n",
    "\n",
    "email_confusion_matrix <- \n",
    "    confusionMatrix(\n",
    "    data = as.factor(email_pred_class),\n",
    "    reference = as.factor(email_training$spam),\n",
    "    positive = \"1\"\n",
    ")\n",
    "\n",
    "# store confusion matrix metrics in a table\n",
    "precision <- email_confusion_matrix$byClass[\"Precision\"]\n",
    "recall    <- email_confusion_matrix$byClass[\"Recall\"]\n",
    "f1_score  <- 2 * precision * recall / (precision + recall)\n",
    "\n",
    "conf_mat_stats <- tibble(Sensitivity = c(email_confusion_matrix$byClass[\"Sensitivity\"]),\n",
    "                         Specificity = c(email_confusion_matrix$byClass[\"Specificity\"]),\n",
    "                         Precision = precision,\n",
    "                         Accuracy = c(email_confusion_matrix$overall[\"Accuracy\"]),\n",
    "                         Kappa = c(email_confusion_matrix$overall[\"Kappa\"]),\n",
    "                         F1 = f1_score)\n",
    "\n",
    "print(\"Figure 2: Metrics of 0.5 threshold\")\n",
    "email_confusion_matrix$table\n",
    "conf_mat_stats   "
   ]
  },
  {
   "cell_type": "markdown",
   "id": "75df4d45-accf-4772-82f2-0c375c5c716a",
   "metadata": {},
   "source": [
    "We used a confusion matrix to interpret the metrics of our model. The trained model has a high accuracy when predicting on the test data, which is expected, but is not a good metric for this model's evaluation because spam emails are significantly underrepresented in this dataset. We can see this through the very high specificity metric, as most of the emails in our dataset are not spam. A metric like sensitivity is more valuable for evaluating the model's performance, as this metric tells us how many spam emails the model classified correctly. The sensitivity of our model is poor, meaning our model currently predicts almost everything to be non-spam.\n",
    "\n",
    "To counteract this, we will change the threshold value. To determine what to change the threshold to, we'll look at the ROC curve (based on the training data) and pick the best point along the curve."
   ]
  },
  {
   "cell_type": "code",
   "execution_count": 52,
   "id": "3e1bd131-34dd-451a-be95-a7cb24cea191",
   "metadata": {},
   "outputs": [
    {
     "name": "stderr",
     "output_type": "stream",
     "text": [
      "Setting levels: control = 0, case = 1\n",
      "\n",
      "Setting direction: controls < cases\n",
      "\n"
     ]
    },
    {
     "data": {
      "image/png": "[encoded data removed]",
      "text/plain": [
       "Plot with title \"Figure 3: ROC Curves for Training Spam Email Dataset\""
      ]
     },
     "metadata": {
      "image/png": {
       "height": 420,
       "width": 420
      }
     },
     "output_type": "display_data"
    }
   ],
   "source": [
    "# main developer: Jake Andersen-Lum\n",
    "\n",
    "# ROC on training set\n",
    "roc_train <- roc(response = email_training$spam, predictor = train_probs)\n",
    "\n",
    "# Find threshold (on training set only)\n",
    "coords_train <- coords(roc_train, x = \"best\", best.method = \"closest.topleft\", transpose = FALSE)\n",
    "best_thresh <- coords_train$threshold\n",
    "\n",
    "plot(roc_train, print.auc = TRUE, col = \"red\", lwd = 3, lty = 2, main = \"Figure 3: ROC Curves for Training Spam Email Dataset\")"
   ]
  },
  {
   "cell_type": "markdown",
   "id": "acc3dec1-f441-4d0f-bac5-400c7cb3461f",
   "metadata": {},
   "source": [
    "From this curve, we select the top-left point, representing the overall best decision threshold to maximize sensitivity and specificity. We call it `best_thresh`."
   ]
  },
  {
   "cell_type": "code",
   "execution_count": 61,
   "id": "164e13df-f462-4178-ad43-4bf0764f83ad",
   "metadata": {},
   "outputs": [
    {
     "name": "stdout",
     "output_type": "stream",
     "text": [
      "[1] \"Figure 4: Metrics of ROC-selected threshold\"\n"
     ]
    },
    {
     "data": {
      "text/plain": [
       "          Reference\n",
       "Prediction    0    1\n",
       "         0 2020   37\n",
       "         1  459  228"
      ]
     },
     "metadata": {},
     "output_type": "display_data"
    },
    {
     "data": {
      "text/html": [
       "<table class=\"dataframe\">\n",
       "<caption>A tibble: 2 × 7</caption>\n",
       "<thead>\n",
       "\t<tr><th scope=col>Threshold</th><th scope=col>Sensitivity</th><th scope=col>Specificity</th><th scope=col>Precision</th><th scope=col>Accuracy</th><th scope=col>Kappa</th><th scope=col>F1</th></tr>\n",
       "\t<tr><th scope=col>&lt;chr&gt;</th><th scope=col>&lt;dbl&gt;</th><th scope=col>&lt;dbl&gt;</th><th scope=col>&lt;dbl&gt;</th><th scope=col>&lt;dbl&gt;</th><th scope=col>&lt;dbl&gt;</th><th scope=col>&lt;dbl&gt;</th></tr>\n",
       "</thead>\n",
       "<tbody>\n",
       "\t<tr><td>Default 0.5                     </td><td>0.1471698</td><td>0.9931424</td><td>0.6964286</td><td>0.9114431</td><td>0.2165932</td><td>0.2429907</td></tr>\n",
       "\t<tr><td>Custom Threshold Using ROC Curve</td><td>0.8603774</td><td>0.8148447</td><td>0.3318777</td><td>0.8192420</td><td>0.3946102</td><td>0.4789916</td></tr>\n",
       "</tbody>\n",
       "</table>\n"
      ],
      "text/latex": [
       "A tibble: 2 × 7\n",
       "\\begin{tabular}{lllllll}\n",
       " Threshold & Sensitivity & Specificity & Precision & Accuracy & Kappa & F1\\\\\n",
       " <chr> & <dbl> & <dbl> & <dbl> & <dbl> & <dbl> & <dbl>\\\\\n",
       "\\hline\n",
       "\t Default 0.5                      & 0.1471698 & 0.9931424 & 0.6964286 & 0.9114431 & 0.2165932 & 0.2429907\\\\\n",
       "\t Custom Threshold Using ROC Curve & 0.8603774 & 0.8148447 & 0.3318777 & 0.8192420 & 0.3946102 & 0.4789916\\\\\n",
       "\\end{tabular}\n"
      ],
      "text/markdown": [
       "\n",
       "A tibble: 2 × 7\n",
       "\n",
       "| Threshold &lt;chr&gt; | Sensitivity &lt;dbl&gt; | Specificity &lt;dbl&gt; | Precision &lt;dbl&gt; | Accuracy &lt;dbl&gt; | Kappa &lt;dbl&gt; | F1 &lt;dbl&gt; |\n",
       "|---|---|---|---|---|---|---|\n",
       "| Default 0.5                      | 0.1471698 | 0.9931424 | 0.6964286 | 0.9114431 | 0.2165932 | 0.2429907 |\n",
       "| Custom Threshold Using ROC Curve | 0.8603774 | 0.8148447 | 0.3318777 | 0.8192420 | 0.3946102 | 0.4789916 |\n",
       "\n"
      ],
      "text/plain": [
       "  Threshold                        Sensitivity Specificity Precision Accuracy \n",
       "1 Default 0.5                      0.1471698   0.9931424   0.6964286 0.9114431\n",
       "2 Custom Threshold Using ROC Curve 0.8603774   0.8148447   0.3318777 0.8192420\n",
       "  Kappa     F1       \n",
       "1 0.2165932 0.2429907\n",
       "2 0.3946102 0.4789916"
      ]
     },
     "metadata": {},
     "output_type": "display_data"
    }
   ],
   "source": [
    "options(repr.plot.width = 8, repr.plot.height = 8)\n",
    "# Main developer: Stephen Hong + Jake Andersen-Lum\n",
    "\n",
    "# Define both thresholds\n",
    "thresholds <- c(0.5, best_thresh)\n",
    "threshold_labels <- c(\"Default 0.5\", \"Custom Threshold Using ROC Curve\")\n",
    "\n",
    "# Initialize empty list to collect results\n",
    "conf_mat_stats_list <- list()\n",
    "\n",
    "# Loop through both thresholds\n",
    "for (i in 1:2) {\n",
    "  threshold <- thresholds[i]\n",
    "  label <- threshold_labels[i]\n",
    "  \n",
    "  # Apply threshold\n",
    "  email_pred_class <- ifelse(train_probs > threshold, 1, 0)\n",
    "\n",
    "  # Compute confusion matrix\n",
    "  cm <- confusionMatrix(\n",
    "    data = as.factor(email_pred_class),\n",
    "    reference = as.factor(email_training$spam),\n",
    "    positive = \"1\"\n",
    "  )\n",
    "  \n",
    "  # Store results in a tibble\n",
    "precision <- cm$byClass[\"Precision\"]\n",
    "recall    <- cm$byClass[\"Recall\"]\n",
    "f1_score  <- 2 * precision * recall / (precision + recall)\n",
    "\n",
    "  conf_mat_stats_list[[i]] <- tibble(\n",
    "    Threshold = label,\n",
    "    Sensitivity = cm$byClass[\"Sensitivity\"],\n",
    "    Specificity = cm$byClass[\"Specificity\"],\n",
    "    Precision   = precision,\n",
    "    Accuracy    = cm$overall[\"Accuracy\"],\n",
    "    Kappa       = cm$overall[\"Kappa\"],\n",
    "    F1          = f1_score\n",
    "  )\n",
    "}\n",
    "\n",
    "# Combine both rows into one table\n",
    "conf_mat_stats_compare <- bind_rows(conf_mat_stats_list)\n",
    "\n",
    "# create new confusion matrix\n",
    "email_confusion_matrix_new_threshold <- \n",
    "    confusionMatrix(\n",
    "    data = as.factor(email_pred_class),\n",
    "    reference = as.factor(email_training$spam),\n",
    "    positive = \"1\"\n",
    ")\n",
    "\n",
    "# Show result\n",
    "#\n",
    "print(\"Figure 4: Metrics of ROC-selected threshold\")\n",
    "email_confusion_matrix_new_threshold$table\n",
    "conf_mat_stats_compare"
   ]
  },
  {
   "cell_type": "markdown",
   "id": "13563f8b-0df3-4bf7-ad6d-0ef8af4a291a",
   "metadata": {},
   "source": [
    "We now have new metrics according to the new threshold, and can build a table comparing it to the original threshold of 0.5. We can clearly see that with this new threshold, our sensitivity has increased, at the slight cost of specificity, precision, and accuracy. Overall, though, the price paid is negligible compared to the gains we make in kappa and f1 score. Our confusion matrix bears this out, showing that while we do now make many more false positive predictions, we now correctly identify spam vastly more often. Finally, we can check our results on the test data."
   ]
  },
  {
   "cell_type": "code",
   "execution_count": 62,
   "id": "2e9c5a77-5ffa-43d2-ba94-5bb495c0bd58",
   "metadata": {},
   "outputs": [
    {
     "name": "stderr",
     "output_type": "stream",
     "text": [
      "Setting levels: control = 0, case = 1\n",
      "\n",
      "Setting direction: controls < cases\n",
      "\n"
     ]
    },
    {
     "data": {
      "image/png": "[encoded data removed]",
      "text/plain": [
       "Plot with title \"Figure 5: ROC Curves for Testing Spam Email Dataset\""
      ]
     },
     "metadata": {
      "image/png": {
       "height": 480,
       "width": 480
      }
     },
     "output_type": "display_data"
    }
   ],
   "source": [
    "# main developer: Jake Andersen-Lum\n",
    "\n",
    "# ROC for the chosen model \n",
    "roc_glm_new <- roc(\n",
    "  response = email_testing$spam,\n",
    "  predictor = predict(chosen_model,\n",
    "                      newdata = email_testing,\n",
    "                      type = \"response\"))\n",
    "\n",
    "plot(roc_glm_new, print.auc = TRUE, col = \"red\", lwd = 3, lty = 2, main = \"Figure 5: ROC Curves for Testing Spam Email Dataset\")"
   ]
  },
  {
   "cell_type": "markdown",
   "id": "2a9ebda3-8fa2-4691-92b4-1e4add995a79",
   "metadata": {},
   "source": [
    "An AUC of 0.904 tells us that our model is fairly accurate over many thresholds. Now let's check our model's metrics using the custom threshold we found."
   ]
  },
  {
   "cell_type": "code",
   "execution_count": 63,
   "id": "5f8bceb2-e175-4832-8bd9-03a1fb5fdf24",
   "metadata": {},
   "outputs": [
    {
     "name": "stdout",
     "output_type": "stream",
     "text": [
      "[1] \"Figure 6: Test Metrics\"\n"
     ]
    },
    {
     "data": {
      "text/plain": [
       "          Reference\n",
       "Prediction   0   1\n",
       "         0 889  15\n",
       "         1 186  87"
      ]
     },
     "metadata": {},
     "output_type": "display_data"
    },
    {
     "data": {
      "text/html": [
       "<table class=\"dataframe\">\n",
       "<caption>A tibble: 1 × 6</caption>\n",
       "<thead>\n",
       "\t<tr><th scope=col>Sensitivity</th><th scope=col>Specificity</th><th scope=col>Precision</th><th scope=col>Accuracy</th><th scope=col>Kappa</th><th scope=col>F1</th></tr>\n",
       "\t<tr><th scope=col>&lt;dbl&gt;</th><th scope=col>&lt;dbl&gt;</th><th scope=col>&lt;dbl&gt;</th><th scope=col>&lt;dbl&gt;</th><th scope=col>&lt;dbl&gt;</th><th scope=col>&lt;dbl&gt;</th></tr>\n",
       "</thead>\n",
       "<tbody>\n",
       "\t<tr><td>0.8529412</td><td>0.8269767</td><td>0.3186813</td><td>0.8292268</td><td>0.3866025</td><td>0.464</td></tr>\n",
       "</tbody>\n",
       "</table>\n"
      ],
      "text/latex": [
       "A tibble: 1 × 6\n",
       "\\begin{tabular}{llllll}\n",
       " Sensitivity & Specificity & Precision & Accuracy & Kappa & F1\\\\\n",
       " <dbl> & <dbl> & <dbl> & <dbl> & <dbl> & <dbl>\\\\\n",
       "\\hline\n",
       "\t 0.8529412 & 0.8269767 & 0.3186813 & 0.8292268 & 0.3866025 & 0.464\\\\\n",
       "\\end{tabular}\n"
      ],
      "text/markdown": [
       "\n",
       "A tibble: 1 × 6\n",
       "\n",
       "| Sensitivity &lt;dbl&gt; | Specificity &lt;dbl&gt; | Precision &lt;dbl&gt; | Accuracy &lt;dbl&gt; | Kappa &lt;dbl&gt; | F1 &lt;dbl&gt; |\n",
       "|---|---|---|---|---|---|\n",
       "| 0.8529412 | 0.8269767 | 0.3186813 | 0.8292268 | 0.3866025 | 0.464 |\n",
       "\n"
      ],
      "text/plain": [
       "            Sensitivity Specificity Precision Accuracy  Kappa     F1   \n",
       "Sensitivity 0.8529412   0.8269767   0.3186813 0.8292268 0.3866025 0.464"
      ]
     },
     "metadata": {},
     "output_type": "display_data"
    }
   ],
   "source": [
    "# Predict on training set\n",
    "test_probs <- predict(chosen_model, email_testing, type = \"response\")\n",
    "\n",
    "email_pred_class <- \n",
    "  email_pred_class <- ifelse(test_probs > best_thresh, 1, 0)\n",
    "\n",
    "email_confusion_matrix <- \n",
    "    confusionMatrix(\n",
    "    data = as.factor(email_pred_class),\n",
    "    reference = as.factor(email_testing$spam),\n",
    "    positive = \"1\"\n",
    ")\n",
    "\n",
    "# store confusion matrix metrics in a table\n",
    "precision <- email_confusion_matrix$byClass[\"Precision\"]\n",
    "recall    <- email_confusion_matrix$byClass[\"Recall\"]\n",
    "f1_score  <- 2 * precision * recall / (precision + recall)\n",
    "\n",
    "conf_mat_stats <- tibble(Sensitivity = c(email_confusion_matrix$byClass[\"Sensitivity\"]),\n",
    "                         Specificity = c(email_confusion_matrix$byClass[\"Specificity\"]),\n",
    "                         Precision = precision,\n",
    "                         Accuracy = c(email_confusion_matrix$overall[\"Accuracy\"]),\n",
    "                         Kappa = c(email_confusion_matrix$overall[\"Kappa\"]),\n",
    "                         F1 = f1_score)\n",
    "\n",
    "print(\"Figure 6: Test Metrics\")\n",
    "email_confusion_matrix$table\n",
    "conf_mat_stats"
   ]
  },
  {
   "cell_type": "markdown",
   "id": "4d73590d-f085-4079-810d-151472bc65db",
   "metadata": {},
   "source": [
    "## Discussion\n",
    "In conclusion, our original data was quite poor at predicting spam correctly due to the imbalance in spam/non-spam classification in the original dataset. However, by adjusting the threshold a little using the ROC curve, we were able to make our model better at predicting true spam. \n",
    "\n",
    "One way our model could be improved is by looking more into the possibility of interaction between terms, as the addition of interaction could drastically change how well our model predicts spam. We could also try different ways of balancing spam and non-spam during splitting and fitting, using different methods of feature selection or regularization like Ridge, or using different methods to determine the decision threshold, such as looking at the Precision-Recall Curve. Additionally, researching more into the method used by large companies to classify spam email, like Google or Microsoft would be an interesting topic. "
   ]
  },
  {
   "cell_type": "markdown",
   "id": "44275fa3-b625-470e-adb4-f157bf433684",
   "metadata": {},
   "source": [
    "## References\n",
    "Cranor, L. F., & LaMacchia, B. A. (1998). Spam! *Communications of the ACM, 41*(8), 74–83. https://doi.org/10.1145/280324.280336 "
   ]
  }
 ],
 "metadata": {
  "kernelspec": {
   "display_name": "R [conda env:cpsc330] *",
   "language": "R",
   "name": "conda-env-cpsc330-r"
  },
  "language_info": {
   "codemirror_mode": "r",
   "file_extension": ".r",
   "mimetype": "text/x-r-source",
   "name": "R",
   "pygments_lexer": "r",
   "version": "4.4.2"
  }
 },
 "nbformat": 4,
 "nbformat_minor": 5
}
