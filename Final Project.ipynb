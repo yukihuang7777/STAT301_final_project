{
 "cells": [
  {
   "cell_type": "markdown",
   "id": "154ac2fb-6bde-4768-8ab7-46294a08b5f7",
   "metadata": {},
   "source": [
    "# Final Project Repository"
   ]
  },
  {
   "cell_type": "code",
   "execution_count": 16,
   "id": "129f3603-22b8-4f7a-9a59-59f8e4bfa927",
   "metadata": {},
   "outputs": [
    {
     "name": "stderr",
     "output_type": "stream",
     "text": [
      "Updating HTML index of packages in '.Library'\n",
      "\n",
      "Making 'packages.html' ...\n",
      " done\n",
      "\n",
      "Loading required package: Matrix\n",
      "\n",
      "\n",
      "Attaching package: ‘Matrix’\n",
      "\n",
      "\n",
      "The following objects are masked from ‘package:tidyr’:\n",
      "\n",
      "    expand, pack, unpack\n",
      "\n",
      "\n",
      "Loaded glmnet 4.1-8\n",
      "\n"
     ]
    }
   ],
   "source": [
    "library(tidyverse)\n",
    "library(repr)\n",
    "library(infer)\n",
    "library(cowplot)\n",
    "library(broom)\n",
    "library(modelr)\n",
    "library(pROC)\n",
    "library(rsample)\n",
    "library(caret)\n",
    "install.packages(\"glmnet\")\n",
    "library(glmnet)\n"
   ]
  },
  {
   "cell_type": "markdown",
   "id": "ee15d31b-9a2e-4129-836f-95ac5a0dc285",
   "metadata": {},
   "source": [
    "### Introduction\n"
   ]
  },
  {
   "cell_type": "markdown",
   "id": "aeaa0523-c2fe-4633-a035-16df2d208502",
   "metadata": {},
   "source": [
    "### Methods and Results"
   ]
  },
  {
   "cell_type": "markdown",
   "id": "2f2e5899-910d-4c6f-b33f-c18843eadbc7",
   "metadata": {},
   "source": [
    "### Discussion"
   ]
  },
  {
   "cell_type": "code",
   "execution_count": 39,
   "id": "4d891978-b69f-4223-b5eb-c5cc638231f1",
   "metadata": {},
   "outputs": [
    {
     "name": "stderr",
     "output_type": "stream",
     "text": [
      "\u001b[1mRows: \u001b[22m\u001b[34m3921\u001b[39m \u001b[1mColumns: \u001b[22m\u001b[34m21\u001b[39m\n",
      "\u001b[36m──\u001b[39m \u001b[1mColumn specification\u001b[22m \u001b[36m────────────────────────────────────────────────────────\u001b[39m\n",
      "\u001b[1mDelimiter:\u001b[22m \",\"\n",
      "\u001b[31mchr\u001b[39m   (2): winner, number\n",
      "\u001b[32mdbl\u001b[39m  (18): spam, to_multiple, from, cc, sent_email, image, attach, dollar, i...\n",
      "\u001b[34mdttm\u001b[39m  (1): time\n",
      "\n",
      "\u001b[36mℹ\u001b[39m Use `spec()` to retrieve the full column specification for this data.\n",
      "\u001b[36mℹ\u001b[39m Specify the column types or set `show_col_types = FALSE` to quiet this message.\n"
     ]
    }
   ],
   "source": [
    "set.seed(3)\n",
    "email <- read_csv(url(\"https://www.openintro.org/data/csv/email.csv\"))\n",
    "email <- email |>\n",
    "    select(-time, -viagra)\n",
    "email <- email |>\n",
    "    mutate(across(c(spam, to_multiple, from, sent_email, winner, format, re_subj, exclaim_subj, urgent_subj, number), as.factor))\n",
    "\n",
    "email_split <- initial_split(email, prop = 0.7, strata = spam)\n",
    "\n",
    "email_training <- training(email_split)\n",
    "\n",
    "email_testing <- testing(email_split)\n",
    "\n",
    "matrix_X_train <- \n",
    "    model.matrix(object = spam ~ .,\n",
    "                 data = email_training)[,-1]\n",
    "\n",
    "matrix_Y_train <- \n",
    "    as.matrix(email_training$spam, ncol = 1)"
   ]
  },
  {
   "cell_type": "code",
   "execution_count": 40,
   "id": "a99b8031-ad76-4d91-9aeb-015403c9cffb",
   "metadata": {},
   "outputs": [
    {
     "data": {
      "text/plain": [
       "20 x 1 sparse Matrix of class \"dgCMatrix\"\n",
       "                        s0\n",
       "(Intercept)    3.360152049\n",
       "to_multiple1  -2.160884257\n",
       "from1         -3.662802449\n",
       "cc             0.026470888\n",
       "sent_email1   -4.582798080\n",
       "image         -1.169070794\n",
       "attach         0.464846082\n",
       "dollar        -0.065503955\n",
       "winneryes      1.905970532\n",
       "inherit        0.291403655\n",
       "password      -0.609556804\n",
       "num_char       .          \n",
       "line_breaks   -0.002686705\n",
       "format1       -0.622305227\n",
       "re_subj1      -1.789314087\n",
       "exclaim_subj1  .          \n",
       "urgent_subj1   3.556141846\n",
       "exclaim_mess   0.008256679\n",
       "numbernone     0.161046645\n",
       "numbersmall   -0.888828627"
      ]
     },
     "metadata": {},
     "output_type": "display_data"
    }
   ],
   "source": [
    "set.seed(4)\n",
    "email_cv_lambda_LASSO <- cv.glmnet(\n",
    "    x = matrix_X_train, y = matrix_Y_train,\n",
    "    alpha = 1,\n",
    "    family = \"binomial\",\n",
    "    type.measure = \"auc\",\n",
    "    nfolds = 5\n",
    "    )\n",
    "\n",
    "lambda_min_AUC_LASSO <- round(email_cv_lambda_LASSO$lambda.min, 4)\n",
    "\n",
    "email_LASSO_min_AUC <- \n",
    "    glmnet(\n",
    "        x = matrix_X_train, \n",
    "        y = matrix_Y_train,\n",
    "        alpha = 1,\n",
    "        family = \"binomial\",\n",
    "        lambda = lambda_min_AUC_LASSO)\n",
    "\n",
    "coef(email_LASSO_min_AUC)\n",
    "\n"
   ]
  },
  {
   "cell_type": "markdown",
   "id": "44275fa3-b625-470e-adb4-f157bf433684",
   "metadata": {},
   "source": [
    "### References"
   ]
  },
  {
   "cell_type": "code",
   "execution_count": null,
   "id": "5988690b-b1bf-4151-a691-e81e9ed6e7b9",
   "metadata": {},
   "outputs": [],
   "source": []
  }
 ],
 "metadata": {
  "kernelspec": {
   "display_name": "R",
   "language": "R",
   "name": "ir"
  },
  "language_info": {
   "codemirror_mode": "r",
   "file_extension": ".r",
   "mimetype": "text/x-r-source",
   "name": "R",
   "pygments_lexer": "r",
   "version": "4.3.3"
  }
 },
 "nbformat": 4,
 "nbformat_minor": 5
}
