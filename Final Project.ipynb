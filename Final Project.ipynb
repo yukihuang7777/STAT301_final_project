{
 "cells": [
  {
   "cell_type": "markdown",
   "id": "154ac2fb-6bde-4768-8ab7-46294a08b5f7",
   "metadata": {},
   "source": [
    "# Final Project Repository"
   ]
  },
  {
   "cell_type": "code",
   "execution_count": 16,
   "id": "129f3603-22b8-4f7a-9a59-59f8e4bfa927",
   "metadata": {},
   "outputs": [
    {
     "name": "stderr",
     "output_type": "stream",
     "text": [
      "Updating HTML index of packages in '.Library'\n",
      "\n",
      "Making 'packages.html' ...\n",
      " done\n",
      "\n",
      "Loading required package: Matrix\n",
      "\n",
      "\n",
      "Attaching package: ‘Matrix’\n",
      "\n",
      "\n",
      "The following objects are masked from ‘package:tidyr’:\n",
      "\n",
      "    expand, pack, unpack\n",
      "\n",
      "\n",
      "Loaded glmnet 4.1-8\n",
      "\n"
     ]
    }
   ],
   "source": [
    "library(tidyverse)\n",
    "library(repr)\n",
    "library(infer)\n",
    "library(cowplot)\n",
    "library(broom)\n",
    "library(modelr)\n",
    "library(pROC)\n",
    "library(rsample)\n",
    "library(caret)\n",
    "install.packages(\"glmnet\")\n",
    "library(glmnet)\n"
   ]
  },
  {
   "cell_type": "markdown",
   "id": "ee15d31b-9a2e-4129-836f-95ac5a0dc285",
   "metadata": {},
   "source": [
    "### Introduction\n"
   ]
  },
  {
   "cell_type": "markdown",
   "id": "aeaa0523-c2fe-4633-a035-16df2d208502",
   "metadata": {},
   "source": [
    "### Methods and Results"
   ]
  },
  {
   "cell_type": "code",
   "execution_count": 21,
   "id": "4d891978-b69f-4223-b5eb-c5cc638231f1",
   "metadata": {},
   "outputs": [
    {
     "name": "stderr",
     "output_type": "stream",
     "text": [
      "\u001b[1mRows: \u001b[22m\u001b[34m3921\u001b[39m \u001b[1mColumns: \u001b[22m\u001b[34m21\u001b[39m\n",
      "\u001b[36m──\u001b[39m \u001b[1mColumn specification\u001b[22m \u001b[36m────────────────────────────────────────────────────────\u001b[39m\n",
      "\u001b[1mDelimiter:\u001b[22m \",\"\n",
      "\u001b[31mchr\u001b[39m   (2): winner, number\n",
      "\u001b[32mdbl\u001b[39m  (18): spam, to_multiple, from, cc, sent_email, image, attach, dollar, i...\n",
      "\u001b[34mdttm\u001b[39m  (1): time\n",
      "\n",
      "\u001b[36mℹ\u001b[39m Use `spec()` to retrieve the full column specification for this data.\n",
      "\u001b[36mℹ\u001b[39m Specify the column types or set `show_col_types = FALSE` to quiet this message.\n",
      "Warning message:\n",
      "“from glmnet C++ code (error code -1); Convergence for 1th lambda value not reached after maxit=100000 iterations; solutions for larger lambdas returned”\n",
      "Warning message in getcoef(fit, nvars, nx, vnames):\n",
      "“an empty model has been returned; probably a convergence issue”\n"
     ]
    },
    {
     "data": {
      "text/plain": [
       "22 x 1 sparse Matrix of class \"dgCMatrix\"\n",
       "             s0\n",
       "(Intercept)   .\n",
       "to_multiple   0\n",
       "from          .\n",
       "cc            .\n",
       "sent_email    .\n",
       "time          .\n",
       "image         .\n",
       "attach        .\n",
       "dollar        .\n",
       "winneryes     .\n",
       "inherit       .\n",
       "viagra        .\n",
       "password      .\n",
       "num_char      .\n",
       "line_breaks   .\n",
       "format        .\n",
       "re_subj       .\n",
       "exclaim_subj  .\n",
       "urgent_subj   .\n",
       "exclaim_mess  .\n",
       "numbernone    .\n",
       "numbersmall   ."
      ]
     },
     "metadata": {},
     "output_type": "display_data"
    }
   ],
   "source": [
    "set.seed(12345)\n",
    "email <- read_csv(url(\"https://www.openintro.org/data/csv/email.csv\"))\n",
    "\n",
    "email_split <- initial_split(email, prop = 0.7, strata = spam)\n",
    "\n",
    "email_training <- training(email_split)\n",
    "\n",
    "email_testing <- testing(email_split)\n",
    "\n",
    "matrix_X_train <- \n",
    "    model.matrix(object = spam ~ .,\n",
    "                 data = email_training)[,-1]\n",
    "\n",
    "matrix_Y_train <- \n",
    "    as.matrix(email_training$spam, ncol = 1)\n",
    "\n",
    "email_cv_lambda_LASSO <- cv.glmnet(\n",
    "    x = matrix_X_train, y = matrix_Y_train,\n",
    "    alpha = 1,\n",
    "    family = \"binomial\",\n",
    "    type.measure = \"auc\",\n",
    "    nfolds = 5\n",
    "    )\n",
    "\n",
    "lambda_min_AUC_LASSO <- round(email_cv_lambda_LASSO$lambda.min, 4)\n",
    "\n",
    "email_LASSO_min_AUC <- \n",
    "    glmnet(\n",
    "        x = matrix_X_train, \n",
    "        y = matrix_Y_train,\n",
    "        alpha = 1,\n",
    "        family = \"binomial\",\n",
    "        lambda = lambda_min_AUC_LASSO)\n",
    "\n",
    "coef(email_LASSO_min_AUC)"
   ]
  },
  {
   "cell_type": "markdown",
   "id": "2f2e5899-910d-4c6f-b33f-c18843eadbc7",
   "metadata": {},
   "source": [
    "### Discussion"
   ]
  },
  {
   "cell_type": "markdown",
   "id": "44275fa3-b625-470e-adb4-f157bf433684",
   "metadata": {},
   "source": [
    "### References"
   ]
  },
  {
   "cell_type": "code",
   "execution_count": null,
   "id": "5988690b-b1bf-4151-a691-e81e9ed6e7b9",
   "metadata": {},
   "outputs": [],
   "source": []
  }
 ],
 "metadata": {
  "kernelspec": {
   "display_name": "R",
   "language": "R",
   "name": "ir"
  },
  "language_info": {
   "codemirror_mode": "r",
   "file_extension": ".r",
   "mimetype": "text/x-r-source",
   "name": "R",
   "pygments_lexer": "r",
   "version": "4.3.3"
  }
 },
 "nbformat": 4,
 "nbformat_minor": 5
}
